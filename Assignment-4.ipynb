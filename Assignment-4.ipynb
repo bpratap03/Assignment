{
 "cells": [
  {
   "cell_type": "raw",
   "metadata": {},
   "source": [
    "Q 1.1 Write a Python Program(with class concepts) to find the area of the triangle using the below\n",
    "formula.\n",
    "area = (s*(s-a)*(s-b)*(s-c)) ** 0.5\n",
    "\n",
    "Function to take the length of the sides of triangle from user should be defined in the parent\n",
    "class and function to calculate the area should be defined in subclass."
   ]
  },
  {
   "cell_type": "code",
   "execution_count": 28,
   "metadata": {},
   "outputs": [
    {
     "name": "stdout",
     "output_type": "stream",
     "text": [
      "Enter 1st side:45\n",
      "Enter 2nd side:50\n",
      "Enter 3rd side:55\n",
      "Are of triangle is: 1060.6601717798212\n"
     ]
    }
   ],
   "source": [
    "class abc:\n",
    "    def __init__(self,a,b,c):\n",
    "        self.a=a\n",
    "        self.b=b\n",
    "        self.c=b\n",
    "a=int(input(\"Enter 1st side:\"))\n",
    "b=int(input(\"Enter 2nd side:\"))\n",
    "c=int(input(\"Enter 3rd side:\"))\n",
    "\n",
    "class xyz(abc):\n",
    "    def area(self):\n",
    "        s=(a+b+c)/2\n",
    "        print(\"Are of triangle is:\",(s*(s-a)*(s-b)*(s-c)) ** 0.5)\n",
    "\n",
    "s=xyz(a,b,c)\n",
    "s.area()\n",
    "        "
   ]
  },
  {
   "cell_type": "raw",
   "metadata": {},
   "source": [
    "Q 1.2 Write a function filter_long_words() that takes a list of words and an integer n and returns\n",
    "the list of words that are longer than n."
   ]
  },
  {
   "cell_type": "code",
   "execution_count": 18,
   "metadata": {},
   "outputs": [
    {
     "name": "stdout",
     "output_type": "stream",
     "text": [
      "length of the list:3\n",
      "Enter words:bhanu\n",
      "Enter words:ram\n",
      "Enter words:shyam\n"
     ]
    },
    {
     "data": {
      "text/plain": [
       "['bhanu', 'shyam']"
      ]
     },
     "execution_count": 18,
     "metadata": {},
     "output_type": "execute_result"
    }
   ],
   "source": [
    "l=[]\n",
    "m=[]\n",
    "a=int(input(\"length of the list:\"))\n",
    "while a>0:\n",
    "    b=input(\"Enter words:\")\n",
    "    l.append(b)\n",
    "    a=a-1\n",
    "def filter_long_words(n,l):\n",
    "    for i in l:\n",
    "        if len(i)>n:\n",
    "            m.append(i)\n",
    "    return m\n",
    "filter_long_words(3,l)\n"
   ]
  },
  {
   "cell_type": "raw",
   "metadata": {},
   "source": [
    "Q 2.1 Write a Python program using function concept that maps list of words into a list of integers\n",
    "representing the lengths of the corresponding words.\n",
    "Hint: If a list [ab,cde,erty] is passed on to the python function output should come as [2,3,4]\n",
    "Here 2,3 and 4 are the lengths of the words in the list."
   ]
  },
  {
   "cell_type": "code",
   "execution_count": 1,
   "metadata": {},
   "outputs": [
    {
     "name": "stdout",
     "output_type": "stream",
     "text": [
      "length of the list:5\n",
      "Enter words:bhanu\n",
      "Enter words:sonu\n",
      "Enter words:ram\n",
      "Enter words:shyama\n",
      "Enter words:jokergk\n"
     ]
    },
    {
     "data": {
      "text/plain": [
       "[5, 4, 3, 6, 7]"
      ]
     },
     "execution_count": 1,
     "metadata": {},
     "output_type": "execute_result"
    }
   ],
   "source": [
    "l=[]\n",
    "a=int(input(\"length of the list:\"))\n",
    "while a>0:\n",
    "    b=input(\"Enter words:\")\n",
    "    l.append(b)\n",
    "    a=a-1\n",
    "\n",
    "def findLen(n):\n",
    "    return len(n)\n",
    "\n",
    "list(map(findLen,l))"
   ]
  },
  {
   "cell_type": "raw",
   "metadata": {},
   "source": [
    "Q 2.2 Write a Python function which takes a character (i.e. a string of length 1) and returns True if\n",
    "it is a vowel, False otherwise."
   ]
  },
  {
   "cell_type": "code",
   "execution_count": 20,
   "metadata": {},
   "outputs": [
    {
     "name": "stdout",
     "output_type": "stream",
     "text": [
      "char to check vowel:l\n"
     ]
    },
    {
     "data": {
      "text/plain": [
       "False"
      ]
     },
     "execution_count": 20,
     "metadata": {},
     "output_type": "execute_result"
    }
   ],
   "source": [
    "def if_Vowel():\n",
    "    n=input(\"char to check vowel:\")\n",
    "    if len(n)==1:\n",
    "        if (n==\"a\" or n==\"e\" or n==\"i\" or n==\"o\" or n==\"u\"):\n",
    "            return True\n",
    "        else:\n",
    "            return False\n",
    "    print(\"please enter only one character\")\n",
    "if_Vowel()\n",
    "    "
   ]
  },
  {
   "cell_type": "code",
   "execution_count": null,
   "metadata": {},
   "outputs": [],
   "source": []
  }
 ],
 "metadata": {
  "kernelspec": {
   "display_name": "Python 3",
   "language": "python",
   "name": "python3"
  },
  "language_info": {
   "codemirror_mode": {
    "name": "ipython",
    "version": 3
   },
   "file_extension": ".py",
   "mimetype": "text/x-python",
   "name": "python",
   "nbconvert_exporter": "python",
   "pygments_lexer": "ipython3",
   "version": "3.7.6"
  }
 },
 "nbformat": 4,
 "nbformat_minor": 4
}
